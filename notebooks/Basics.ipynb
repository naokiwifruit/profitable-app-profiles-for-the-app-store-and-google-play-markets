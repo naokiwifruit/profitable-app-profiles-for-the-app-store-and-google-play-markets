{
 "cells": [
  {
   "cell_type": "markdown",
   "metadata": {},
   "source": [
    "# Profitable App Profiles for the App Store and Google Play Markets\n",
    "\n",
    "This article was written as a part of my [Data Science Challenge](https://note.com/naokiwifruit/n/n986686e6a101) and a project of [\"Python for Data Science: Fundamentals\"](https://www.dataquest.io/course/python-for-data-science-fundamentals/) at Dataquest.\n",
    "\n",
    "We analyze the dataset for mobile apps in Google Play and App Store in order to find apps profile that is profitable."
   ]
  },
  {
   "cell_type": "markdown",
   "metadata": {},
   "source": [
    "## The Goal of This Project\n",
    "\n",
    "The analysis is conducted on the assumption that you are working as a data scientist at a company that develops mobile apps.\n",
    "\n",
    "The company only develops free apps, and the main source of revenue is in-app advertising. In other words, the more users who use your app, the more revenue you will earn.\n",
    "\n",
    "The purpose of this project is to analyze app datasets and help our developers understand the types of apps that attract users in the market.\n",
    "We are going to develop apps for both Android and iOS, so we will explore these two markets."
   ]
  },
  {
   "cell_type": "markdown",
   "metadata": {},
   "source": [
    "## App Datasets\n",
    "\n",
    "* [A dataset](https://www.kaggle.com/lava18/google-play-store-apps) for 10,000 Android apps from the Google Play\n",
    "* [A dataset](https://www.kaggle.com/ramamet4/app-store-apple-data-set-10k-apps) for 7,000 iOS apps from the App store\n",
    "\n",
    "## Opening Data"
   ]
  },
  {
   "cell_type": "code",
   "execution_count": 1,
   "metadata": {},
   "outputs": [],
   "source": [
    "from csv import reader\n",
    "\n",
    "def open_dataset(file_path):\n",
    "    \"\"\"\n",
    "    read a csv file and return data as a list\n",
    "    \n",
    "    Args:\n",
    "        file_path (str) : the path to a csv file\n",
    "    \n",
    "    Returns:\n",
    "        data (list) : data as a list of lists\n",
    "    \"\"\"\n",
    "    \n",
    "    opened_file = open(file_path, encoding='utf-8')\n",
    "    read_file = reader(opened_file)\n",
    "    data = list(read_file)\n",
    "    \n",
    "    return data\n",
    "\n",
    "# The Google Play dataset\n",
    "android = open_dataset('../data/googleplaystore.csv')\n",
    "android_header = android[0]\n",
    "android = android[1:]\n",
    "\n",
    "# The App Store dataset\n",
    "ios = open_dataset('../data/AppleStore.csv')\n",
    "ios_header = ios[0]\n",
    "ios = ios[1:]"
   ]
  },
  {
   "cell_type": "code",
   "execution_count": 2,
   "metadata": {},
   "outputs": [
    {
     "name": "stdout",
     "output_type": "stream",
     "text": [
      "====================\n",
      "Android\n",
      "====================\n",
      "\n",
      "['App', 'Category', 'Rating', 'Reviews', 'Size', 'Installs', 'Type', 'Price', 'Content Rating', 'Genres', 'Last Updated', 'Current Ver', 'Android Ver']\n",
      "\n",
      "\n",
      "['Photo Editor & Candy Camera & Grid & ScrapBook', 'ART_AND_DESIGN', '4.1', '159', '19M', '10,000+', 'Free', '0', 'Everyone', 'Art & Design', 'January 7, 2018', '1.0.0', '4.0.3 and up']\n",
      "\n",
      "\n",
      "Number of rows 10841\n",
      "Number of columns: 13\n",
      "\n",
      "====================\n",
      "iOS\n",
      "====================\n",
      "\n",
      "['id', 'track_name', 'size_bytes', 'currency', 'price', 'rating_count_tot', 'rating_count_ver', 'user_rating', 'user_rating_ver', 'ver', 'cont_rating', 'prime_genre', 'sup_devices.num', 'ipadSc_urls.num', 'lang.num', 'vpp_lic']\n",
      "\n",
      "\n",
      "['284882215', 'Facebook', '389879808', 'USD', '0.0', '2974676', '212', '3.5', '3.5', '95.0', '4+', 'Social Networking', '37', '1', '29', '1']\n",
      "\n",
      "\n",
      "Number of rows 7197\n",
      "Number of columns: 16\n"
     ]
    }
   ],
   "source": [
    "def explore_data(dataset, start, end, rows_and_columns=False):\n",
    "    \"\"\"\n",
    "    show information of rows and columns of the dataset\n",
    "    \n",
    "    Args:\n",
    "        dataset (list) : data as a list of lists\n",
    "        start (int) : starting indices of a slice from the data set\n",
    "        end (int) : ending indices of a slice from the data set\n",
    "        rows_and_columns (bool) : print the number of rows and columns if True\n",
    "    \"\"\"\n",
    "    \n",
    "    dataset_slice = dataset[start:end]\n",
    "    for row in dataset_slice:\n",
    "        print(row)\n",
    "        print('\\n')\n",
    "        \n",
    "    if rows_and_columns:\n",
    "        print('Number of rows', len(dataset))\n",
    "        print('Number of columns:', len(dataset[0]))\n",
    "        \n",
    "# print information of each dataset\n",
    "print('====================')\n",
    "print('Android')\n",
    "print('====================\\n')\n",
    "print(android_header)\n",
    "print('\\n')\n",
    "explore_data(android, 0, 1, True)\n",
    "\n",
    "print('\\n====================')\n",
    "print('iOS')\n",
    "print('====================\\n')\n",
    "print(ios_header)\n",
    "print('\\n')\n",
    "explore_data(ios, 0, 1, True)"
   ]
  },
  {
   "cell_type": "markdown",
   "metadata": {},
   "source": [
    "## Remove Incorrect Entry"
   ]
  },
  {
   "cell_type": "code",
   "execution_count": 3,
   "metadata": {},
   "outputs": [
    {
     "name": "stdout",
     "output_type": "stream",
     "text": [
      "['App', 'Category', 'Rating', 'Reviews', 'Size', 'Installs', 'Type', 'Price', 'Content Rating', 'Genres', 'Last Updated', 'Current Ver', 'Android Ver']\n",
      "\n",
      "\n",
      "['Coloring book moana', 'ART_AND_DESIGN', '3.9', '967', '14M', '500,000+', 'Free', '0', 'Everyone', 'Art & Design;Pretend Play', 'January 15, 2018', '2.0.0', '4.0.3 and up']\n",
      "\n",
      "\n",
      "['Life Made WI-Fi Touchscreen Photo Frame', '1.9', '19', '3.0M', '1,000+', 'Free', '0', 'Everyone', '', 'February 11, 2018', '1.0.19', '4.0 and up']\n"
     ]
    }
   ],
   "source": [
    "# print the row to check whetherr is is indeed incorrect\n",
    "print(android_header) # header\n",
    "print('\\n')\n",
    "print(android[1]) # correct row\n",
    "print('\\n')\n",
    "print(android[10472])# incorrect row"
   ]
  },
  {
   "cell_type": "code",
   "execution_count": 4,
   "metadata": {},
   "outputs": [],
   "source": [
    "# remove the row\n",
    "del android[10472]"
   ]
  },
  {
   "cell_type": "markdown",
   "metadata": {},
   "source": [
    "## Remove Duplicate Entry"
   ]
  },
  {
   "cell_type": "code",
   "execution_count": 5,
   "metadata": {
    "scrolled": true
   },
   "outputs": [
    {
     "name": "stdout",
     "output_type": "stream",
     "text": [
      "Number of duplicate apps: 1181\n",
      "\n",
      "\n",
      "Examples of duplicate apps; ['Quick PDF Scanner + OCR FREE', 'Box', 'Google My Business', 'ZOOM Cloud Meetings', 'join.me - Simple Meetings', 'Box', 'Zenefits', 'Google Ads', 'Google My Business', 'Slack', 'FreshBooks Classic', 'Insightly CRM', 'QuickBooks Accounting: Invoicing & Expenses', 'HipChat - Chat Built for Teams', 'Xero Accounting Software']\n"
     ]
    }
   ],
   "source": [
    "# print duplicate rows in the Google Play data set\n",
    "duplicate_apps = []\n",
    "unique_apps = []\n",
    "\n",
    "for app in android:\n",
    "    name = app[0]\n",
    "    if name in unique_apps:\n",
    "        duplicate_apps.append(name)\n",
    "    else:\n",
    "        unique_apps.append(name)\n",
    "\n",
    "print('Number of duplicate apps:', len(duplicate_apps))\n",
    "print('\\n')\n",
    "print('Examples of duplicate apps;', duplicate_apps[:15])"
   ]
  },
  {
   "cell_type": "code",
   "execution_count": 6,
   "metadata": {},
   "outputs": [
    {
     "name": "stdout",
     "output_type": "stream",
     "text": [
      "['Twitter', 'NEWS_AND_MAGAZINES', '4.3', '11667403', 'Varies with device', '500,000,000+', 'Free', '0', 'Mature 17+', 'News & Magazines', 'August 6, 2018', 'Varies with device', 'Varies with device']\n",
      "['Twitter', 'NEWS_AND_MAGAZINES', '4.3', '11667403', 'Varies with device', '500,000,000+', 'Free', '0', 'Mature 17+', 'News & Magazines', 'August 6, 2018', 'Varies with device', 'Varies with device']\n",
      "['Twitter', 'NEWS_AND_MAGAZINES', '4.3', '11657972', 'Varies with device', '500,000,000+', 'Free', '0', 'Mature 17+', 'News & Magazines', 'July 30, 2018', 'Varies with device', 'Varies with device']\n"
     ]
    }
   ],
   "source": [
    "# print all entries for Twitter\n",
    "for app in android:\n",
    "    name = app[0]\n",
    "    if name == 'Twitter':\n",
    "        print(app)"
   ]
  },
  {
   "cell_type": "code",
   "execution_count": 7,
   "metadata": {},
   "outputs": [
    {
     "name": "stdout",
     "output_type": "stream",
     "text": [
      "Expected length: 9659\n",
      "Actual length: 9659\n"
     ]
    }
   ],
   "source": [
    "# create a dictionary where each key is a unique app name and the corresponding value is the highest number of reviews of that app\n",
    "reviews_max = {}\n",
    "\n",
    "for app in android:\n",
    "    name = app[0]\n",
    "    n_reviews = float(app[3]) # the 'Reviews' column\n",
    "    if name in reviews_max and reviews_max[name] < n_reviews:\n",
    "        reviews_max[name] = n_reviews\n",
    "    elif name not in reviews_max:\n",
    "        reviews_max[name] = n_reviews\n",
    "                \n",
    "# use the dictionary and create a new data set which will have only one entry per app\n",
    "android_clean = []\n",
    "already_added = []\n",
    "\n",
    "for app in android:\n",
    "    name = app[0]\n",
    "    n_reviews = float(app[3])\n",
    "    if n_reviews == reviews_max[name] and name not in already_added:\n",
    "        android_clean.append(app)\n",
    "        already_added.append(name)\n",
    "\n",
    "print('Expected length:', len(android) - len(duplicate_apps))\n",
    "print('Actual length:', len(android_clean))"
   ]
  },
  {
   "cell_type": "markdown",
   "metadata": {},
   "source": [
    "## Extract English App"
   ]
  },
  {
   "cell_type": "code",
   "execution_count": 8,
   "metadata": {},
   "outputs": [
    {
     "name": "stdout",
     "output_type": "stream",
     "text": [
      "The length of all Android apps: 9659\n",
      "The length of English Android apps: 9614\n",
      "\n",
      "\n",
      "The length of all iOS apps: 7197\n",
      "The length of English iOS apps: 6183\n"
     ]
    }
   ],
   "source": [
    "def detect_english(name):\n",
    "    \"\"\"\n",
    "    if app's name has more than three non-english characters, return False\n",
    "    \n",
    "    Args:\n",
    "        name (str) : app's name\n",
    "        \n",
    "    Returns:\n",
    "        bool : whether the app is for the non-English users\n",
    "    \"\"\"\n",
    "    num_non_eng = 0\n",
    "    for character in name:\n",
    "        if ord(character) > 127: # according to ASCII, English text are all in the range 0 to 127\n",
    "            num_non_eng += 1\n",
    "            \n",
    "    return False if num_non_eng > 3 else True\n",
    "\n",
    "# make a list only contains English Android app\n",
    "android_eng = []\n",
    "for app in android_clean:\n",
    "    name = app[0]\n",
    "    if detect_english(name):\n",
    "        android_eng.append(app)\n",
    "        \n",
    "# make a list only contains Enlgish iOS app\n",
    "ios_eng = []\n",
    "for app in ios:\n",
    "    name = app[1]\n",
    "    if detect_english(name):\n",
    "        ios_eng.append(app)\n",
    "        \n",
    "print('The length of all Android apps:', len(android_clean))\n",
    "print('The length of English Android apps:', len(android_eng))\n",
    "print('\\n')\n",
    "print('The length of all iOS apps:', len(ios))\n",
    "print('The length of English iOS apps:', len(ios_eng))"
   ]
  },
  {
   "cell_type": "markdown",
   "metadata": {},
   "source": [
    "# Extract Free App"
   ]
  },
  {
   "cell_type": "code",
   "execution_count": 9,
   "metadata": {},
   "outputs": [
    {
     "name": "stdout",
     "output_type": "stream",
     "text": [
      "The length of English Android apps: 9614\n",
      "The length of free English Android apps: 8864\n",
      "\n",
      "\n",
      "The length of English iOS apps: 6183\n",
      "The length of free English iOS apps: 3222\n"
     ]
    }
   ],
   "source": [
    "# isolate the free apps\n",
    "android_free = []\n",
    "for app in android_eng:\n",
    "    if app[7] == '0':\n",
    "        android_free.append(app)\n",
    "        \n",
    "ios_free = []\n",
    "for app in ios_eng:\n",
    "    if app[4] == '0.0':\n",
    "        ios_free.append(app)\n",
    "        \n",
    "print('The length of English Android apps:', len(android_eng))\n",
    "print('The length of free English Android apps:', len(android_free))\n",
    "print('\\n')\n",
    "print('The length of English iOS apps:', len(ios_eng))\n",
    "print('The length of free English iOS apps:', len(ios_free))"
   ]
  },
  {
   "cell_type": "markdown",
   "metadata": {},
   "source": [
    "## Find Most Common Apps by Genre"
   ]
  },
  {
   "cell_type": "code",
   "execution_count": 10,
   "metadata": {},
   "outputs": [],
   "source": [
    "def freq_table(dataset, index):\n",
    "    \"\"\"\n",
    "    make a frequency table for a column you want as a dictionary\n",
    "    \n",
    "    Args:\n",
    "        dataset (list) : a dataset as a list of lists \n",
    "        index (int) : a column you want to make the frequency table for \n",
    "        \n",
    "    Returns:\n",
    "        table (dic) : a frequency table for a column you want\n",
    "    \"\"\"\n",
    "    \n",
    "    table = {}\n",
    "    total = 0\n",
    "    #\n",
    "    for row in dataset:\n",
    "        total += 1\n",
    "        value = row[index]\n",
    "        if value in table:\n",
    "            table[value] += 1\n",
    "        else:\n",
    "            table[value] = 1\n",
    "            \n",
    "    table_percentages = {}\n",
    "    for key in table:\n",
    "        percentage = (table[key] / total) * 100\n",
    "        table_percentages[key] = percentage\n",
    "        \n",
    "    return table_percentages\n",
    "            \n",
    "    \n",
    "def display_table(dataset, index):\n",
    "    \"\"\"\n",
    "    prints the entries of the frequency table in descending order\n",
    "    \n",
    "    Args:\n",
    "        dataset (list) : a dataset as a list of lists \n",
    "        index (int) : a column you want to show the frequency table\n",
    "    \"\"\"\n",
    "    \n",
    "    table = freq_table(dataset, index)\n",
    "    table_display = []\n",
    "    # convert a dictionaly to tuple that can be sorted\n",
    "    for key in table:\n",
    "        key_val_as_tuple = (table[key], key)\n",
    "        table_display.append(key_val_as_tuple)\n",
    "        \n",
    "    # shot the table in descending order\n",
    "    table_sorted = sorted(table_display, reverse=True)\n",
    "    for entry in table_sorted:\n",
    "        print(entry[1], ':', entry[0])"
   ]
  },
  {
   "cell_type": "code",
   "execution_count": 11,
   "metadata": {
    "scrolled": false
   },
   "outputs": [
    {
     "name": "stdout",
     "output_type": "stream",
     "text": [
      "Tools : 8.449909747292418\n",
      "Entertainment : 6.069494584837545\n",
      "Education : 5.347472924187725\n",
      "Business : 4.591606498194946\n",
      "Productivity : 3.892148014440433\n",
      "Lifestyle : 3.892148014440433\n",
      "Finance : 3.7003610108303246\n",
      "Medical : 3.531137184115524\n",
      "Sports : 3.463447653429603\n",
      "Personalization : 3.3167870036101084\n",
      "Communication : 3.2378158844765346\n",
      "Action : 3.1024368231046933\n",
      "Health & Fitness : 3.0798736462093865\n",
      "Photography : 2.944494584837545\n",
      "News & Magazines : 2.7978339350180503\n",
      "Social : 2.6624548736462095\n",
      "Travel & Local : 2.3240072202166067\n",
      "Shopping : 2.2450361010830324\n",
      "Books & Reference : 2.1435018050541514\n",
      "Simulation : 2.0419675090252705\n",
      "Dating : 1.861462093862816\n",
      "Arcade : 1.8501805054151623\n",
      "Video Players & Editors : 1.7712093862815883\n",
      "Casual : 1.7599277978339352\n",
      "Maps & Navigation : 1.3989169675090252\n",
      "Food & Drink : 1.2409747292418771\n",
      "Puzzle : 1.128158844765343\n",
      "Racing : 0.9927797833935018\n",
      "Role Playing : 0.9363718411552346\n",
      "Libraries & Demo : 0.9363718411552346\n",
      "Auto & Vehicles : 0.9250902527075812\n",
      "Strategy : 0.9138086642599278\n",
      "House & Home : 0.8235559566787004\n",
      "Weather : 0.8009927797833934\n",
      "Events : 0.7107400722021661\n",
      "Adventure : 0.6768953068592057\n",
      "Comics : 0.6092057761732852\n",
      "Beauty : 0.5979241877256317\n",
      "Art & Design : 0.5979241877256317\n",
      "Parenting : 0.4963898916967509\n",
      "Card : 0.45126353790613716\n",
      "Casino : 0.42870036101083037\n",
      "Trivia : 0.41741877256317694\n",
      "Educational;Education : 0.39485559566787\n",
      "Board : 0.3835740072202166\n",
      "Educational : 0.3722924187725632\n",
      "Education;Education : 0.33844765342960287\n",
      "Word : 0.2594765342960289\n",
      "Casual;Pretend Play : 0.236913357400722\n",
      "Music : 0.2030685920577617\n",
      "Racing;Action & Adventure : 0.16922382671480143\n",
      "Puzzle;Brain Games : 0.16922382671480143\n",
      "Entertainment;Music & Video : 0.16922382671480143\n",
      "Casual;Brain Games : 0.13537906137184114\n",
      "Casual;Action & Adventure : 0.13537906137184114\n",
      "Arcade;Action & Adventure : 0.12409747292418773\n",
      "Action;Action & Adventure : 0.10153429602888085\n",
      "Educational;Pretend Play : 0.09025270758122744\n",
      "Simulation;Action & Adventure : 0.078971119133574\n",
      "Parenting;Education : 0.078971119133574\n",
      "Entertainment;Brain Games : 0.078971119133574\n",
      "Board;Brain Games : 0.078971119133574\n",
      "Parenting;Music & Video : 0.06768953068592057\n",
      "Educational;Brain Games : 0.06768953068592057\n",
      "Casual;Creativity : 0.06768953068592057\n",
      "Art & Design;Creativity : 0.06768953068592057\n",
      "Education;Pretend Play : 0.056407942238267145\n",
      "Role Playing;Pretend Play : 0.04512635379061372\n",
      "Education;Creativity : 0.04512635379061372\n",
      "Role Playing;Action & Adventure : 0.033844765342960284\n",
      "Puzzle;Action & Adventure : 0.033844765342960284\n",
      "Entertainment;Creativity : 0.033844765342960284\n",
      "Entertainment;Action & Adventure : 0.033844765342960284\n",
      "Educational;Creativity : 0.033844765342960284\n",
      "Educational;Action & Adventure : 0.033844765342960284\n",
      "Education;Music & Video : 0.033844765342960284\n",
      "Education;Brain Games : 0.033844765342960284\n",
      "Education;Action & Adventure : 0.033844765342960284\n",
      "Adventure;Action & Adventure : 0.033844765342960284\n",
      "Video Players & Editors;Music & Video : 0.02256317689530686\n",
      "Sports;Action & Adventure : 0.02256317689530686\n",
      "Simulation;Pretend Play : 0.02256317689530686\n",
      "Puzzle;Creativity : 0.02256317689530686\n",
      "Music;Music & Video : 0.02256317689530686\n",
      "Entertainment;Pretend Play : 0.02256317689530686\n",
      "Casual;Education : 0.02256317689530686\n",
      "Board;Action & Adventure : 0.02256317689530686\n",
      "Video Players & Editors;Creativity : 0.01128158844765343\n",
      "Trivia;Education : 0.01128158844765343\n",
      "Travel & Local;Action & Adventure : 0.01128158844765343\n",
      "Tools;Education : 0.01128158844765343\n",
      "Strategy;Education : 0.01128158844765343\n",
      "Strategy;Creativity : 0.01128158844765343\n",
      "Strategy;Action & Adventure : 0.01128158844765343\n",
      "Simulation;Education : 0.01128158844765343\n",
      "Role Playing;Brain Games : 0.01128158844765343\n",
      "Racing;Pretend Play : 0.01128158844765343\n",
      "Puzzle;Education : 0.01128158844765343\n",
      "Parenting;Brain Games : 0.01128158844765343\n",
      "Music & Audio;Music & Video : 0.01128158844765343\n",
      "Lifestyle;Pretend Play : 0.01128158844765343\n",
      "Lifestyle;Education : 0.01128158844765343\n",
      "Health & Fitness;Education : 0.01128158844765343\n",
      "Health & Fitness;Action & Adventure : 0.01128158844765343\n",
      "Entertainment;Education : 0.01128158844765343\n",
      "Communication;Creativity : 0.01128158844765343\n",
      "Comics;Creativity : 0.01128158844765343\n",
      "Casual;Music & Video : 0.01128158844765343\n",
      "Card;Action & Adventure : 0.01128158844765343\n",
      "Books & Reference;Education : 0.01128158844765343\n",
      "Art & Design;Pretend Play : 0.01128158844765343\n",
      "Art & Design;Action & Adventure : 0.01128158844765343\n",
      "Arcade;Pretend Play : 0.01128158844765343\n",
      "Adventure;Education : 0.01128158844765343\n"
     ]
    }
   ],
   "source": [
    "# display the frequency table of 'Genres' column of the Google Play data set\n",
    "display_table(android_free, -4)"
   ]
  },
  {
   "cell_type": "code",
   "execution_count": 12,
   "metadata": {},
   "outputs": [
    {
     "name": "stdout",
     "output_type": "stream",
     "text": [
      "FAMILY : 18.907942238267147\n",
      "GAME : 9.724729241877256\n",
      "TOOLS : 8.461191335740072\n",
      "BUSINESS : 4.591606498194946\n",
      "LIFESTYLE : 3.9034296028880866\n",
      "PRODUCTIVITY : 3.892148014440433\n",
      "FINANCE : 3.7003610108303246\n",
      "MEDICAL : 3.531137184115524\n",
      "SPORTS : 3.395758122743682\n",
      "PERSONALIZATION : 3.3167870036101084\n",
      "COMMUNICATION : 3.2378158844765346\n",
      "HEALTH_AND_FITNESS : 3.0798736462093865\n",
      "PHOTOGRAPHY : 2.944494584837545\n",
      "NEWS_AND_MAGAZINES : 2.7978339350180503\n",
      "SOCIAL : 2.6624548736462095\n",
      "TRAVEL_AND_LOCAL : 2.33528880866426\n",
      "SHOPPING : 2.2450361010830324\n",
      "BOOKS_AND_REFERENCE : 2.1435018050541514\n",
      "DATING : 1.861462093862816\n",
      "VIDEO_PLAYERS : 1.7937725631768955\n",
      "MAPS_AND_NAVIGATION : 1.3989169675090252\n",
      "FOOD_AND_DRINK : 1.2409747292418771\n",
      "EDUCATION : 1.1620036101083033\n",
      "ENTERTAINMENT : 0.9589350180505415\n",
      "LIBRARIES_AND_DEMO : 0.9363718411552346\n",
      "AUTO_AND_VEHICLES : 0.9250902527075812\n",
      "HOUSE_AND_HOME : 0.8235559566787004\n",
      "WEATHER : 0.8009927797833934\n",
      "EVENTS : 0.7107400722021661\n",
      "PARENTING : 0.6543321299638989\n",
      "ART_AND_DESIGN : 0.6430505415162455\n",
      "COMICS : 0.6204873646209386\n",
      "BEAUTY : 0.5979241877256317\n"
     ]
    }
   ],
   "source": [
    "# display the frequency table of 'Category' column of the Google Play data set\n",
    "display_table(android_free, 1)"
   ]
  },
  {
   "cell_type": "code",
   "execution_count": 13,
   "metadata": {},
   "outputs": [
    {
     "name": "stdout",
     "output_type": "stream",
     "text": [
      "Games : 58.16263190564867\n",
      "Entertainment : 7.883302296710118\n",
      "Photo & Video : 4.9658597144630665\n",
      "Education : 3.662321539416512\n",
      "Social Networking : 3.2898820608317814\n",
      "Shopping : 2.60707635009311\n",
      "Utilities : 2.5139664804469275\n",
      "Sports : 2.1415270018621975\n",
      "Music : 2.0484171322160147\n",
      "Health & Fitness : 2.0173805090006205\n",
      "Productivity : 1.7380509000620732\n",
      "Lifestyle : 1.5828677839851024\n",
      "News : 1.3345747982619491\n",
      "Travel : 1.2414649286157666\n",
      "Finance : 1.1173184357541899\n",
      "Weather : 0.8690254500310366\n",
      "Food & Drink : 0.8069522036002483\n",
      "Reference : 0.5586592178770949\n",
      "Business : 0.5276225946617008\n",
      "Book : 0.4345127250155183\n",
      "Navigation : 0.186219739292365\n",
      "Medical : 0.186219739292365\n",
      "Catalogs : 0.12414649286157665\n"
     ]
    }
   ],
   "source": [
    "# display the frequency table of 'prime_genre' column in the App Store data set\n",
    "display_table(ios_free, 11)"
   ]
  },
  {
   "cell_type": "markdown",
   "metadata": {},
   "source": [
    "## Most Popular Apps by Genre on the Google Play"
   ]
  },
  {
   "cell_type": "code",
   "execution_count": 14,
   "metadata": {},
   "outputs": [
    {
     "name": "stdout",
     "output_type": "stream",
     "text": [
      "ART_AND_DESIGN : 1986335.0877192982\n",
      "AUTO_AND_VEHICLES : 647317.8170731707\n",
      "BEAUTY : 513151.88679245283\n",
      "BOOKS_AND_REFERENCE : 8767811.894736841\n",
      "BUSINESS : 1712290.1474201474\n",
      "COMICS : 817657.2727272727\n",
      "COMMUNICATION : 38456119.167247385\n",
      "DATING : 854028.8303030303\n",
      "EDUCATION : 1833495.145631068\n",
      "ENTERTAINMENT : 11640705.88235294\n",
      "EVENTS : 253542.22222222222\n",
      "FINANCE : 1387692.475609756\n",
      "FOOD_AND_DRINK : 1924897.7363636363\n",
      "HEALTH_AND_FITNESS : 4188821.9853479853\n",
      "HOUSE_AND_HOME : 1331540.5616438356\n",
      "LIBRARIES_AND_DEMO : 638503.734939759\n",
      "LIFESTYLE : 1437816.2687861272\n",
      "GAME : 15588015.603248259\n",
      "FAMILY : 3695641.8198090694\n",
      "MEDICAL : 120550.61980830671\n",
      "SOCIAL : 23253652.127118643\n",
      "SHOPPING : 7036877.311557789\n",
      "PHOTOGRAPHY : 17840110.40229885\n",
      "SPORTS : 3638640.1428571427\n",
      "TRAVEL_AND_LOCAL : 13984077.710144928\n",
      "TOOLS : 10801391.298666667\n",
      "PERSONALIZATION : 5201482.6122448975\n",
      "PRODUCTIVITY : 16787331.344927534\n",
      "PARENTING : 542603.6206896552\n",
      "WEATHER : 5074486.197183099\n",
      "VIDEO_PLAYERS : 24727872.452830188\n",
      "NEWS_AND_MAGAZINES : 9549178.467741935\n",
      "MAPS_AND_NAVIGATION : 4056941.7741935486\n"
     ]
    }
   ],
   "source": [
    "# show the average number of install per app genre on the Google Play data set\n",
    "for category in freq_table(android_free, 1):\n",
    "    total = 0\n",
    "    len_category = 0\n",
    "    for app in android_free:\n",
    "        category_app = app[1]\n",
    "        if category_app == category:\n",
    "            n_installs = app[5]\n",
    "            n_installs = n_installs.replace('+', '')\n",
    "            n_installs = n_installs.replace(',', '')\n",
    "            n_installs = float(n_installs)\n",
    "            total += n_installs\n",
    "            len_category += 1\n",
    "    avg_n_installs = total / len_category\n",
    "    print(category, ':', avg_n_installs)"
   ]
  },
  {
   "cell_type": "code",
   "execution_count": 15,
   "metadata": {},
   "outputs": [
    {
     "name": "stdout",
     "output_type": "stream",
     "text": [
      "ART_AND_DESIGN : 100000.0\n",
      "AUTO_AND_VEHICLES : 100000.0\n",
      "BEAUTY : 50000.0\n",
      "BOOKS_AND_REFERENCE : 50000.0\n",
      "BUSINESS : 1000.0\n",
      "COMICS : 100000.0\n",
      "COMMUNICATION : 500000.0\n",
      "DATING : 10000.0\n",
      "EDUCATION : 1000000.0\n",
      "ENTERTAINMENT : 1000000.0\n",
      "EVENTS : 1000.0\n",
      "FINANCE : 10000.0\n",
      "FOOD_AND_DRINK : 500000.0\n",
      "HEALTH_AND_FITNESS : 500000.0\n",
      "HOUSE_AND_HOME : 500000.0\n",
      "LIBRARIES_AND_DEMO : 10000.0\n",
      "LIFESTYLE : 10000.0\n",
      "GAME : 1000000.0\n",
      "FAMILY : 100000.0\n",
      "MEDICAL : 1000.0\n",
      "SOCIAL : 100000.0\n",
      "SHOPPING : 1000000.0\n",
      "PHOTOGRAPHY : 1000000.0\n",
      "SPORTS : 100000.0\n",
      "TRAVEL_AND_LOCAL : 100000.0\n",
      "TOOLS : 100000.0\n",
      "PERSONALIZATION : 100000.0\n",
      "PRODUCTIVITY : 100000.0\n",
      "PARENTING : 100000.0\n",
      "WEATHER : 1000000.0\n",
      "VIDEO_PLAYERS : 1000000.0\n",
      "NEWS_AND_MAGAZINES : 50000.0\n",
      "MAPS_AND_NAVIGATION : 100000.0\n"
     ]
    }
   ],
   "source": [
    "from statistics import median\n",
    "\n",
    "# show the median of the number of installs per app genre on the Google Play data set\n",
    "for category in freq_table(android_free, 1):\n",
    "    n_installs_list = []\n",
    "    for app in android_free:\n",
    "        category_app = app[1]\n",
    "        \n",
    "        if category_app == category:\n",
    "            n_installs = app[5]\n",
    "            n_installs = n_installs.replace('+', '')\n",
    "            n_installs = n_installs.replace(',', '')\n",
    "            n_installs = float(n_installs)\n",
    "            n_installs_list.append(n_installs)\n",
    "    med_installs = median(n_installs_list)\n",
    "    print(category, ':', med_installs)"
   ]
  },
  {
   "cell_type": "markdown",
   "metadata": {},
   "source": [
    "## Most Popular Apps by Genre on the App Store"
   ]
  },
  {
   "cell_type": "code",
   "execution_count": 16,
   "metadata": {},
   "outputs": [
    {
     "name": "stdout",
     "output_type": "stream",
     "text": [
      "Social Networking : 71548.34905660378\n",
      "Photo & Video : 28441.54375\n",
      "Games : 22788.6696905016\n",
      "Music : 57326.530303030304\n",
      "Reference : 74942.11111111111\n",
      "Health & Fitness : 23298.015384615384\n",
      "Weather : 52279.892857142855\n",
      "Utilities : 18684.456790123455\n",
      "Travel : 28243.8\n",
      "Shopping : 26919.690476190477\n",
      "News : 21248.023255813954\n",
      "Navigation : 86090.33333333333\n",
      "Lifestyle : 16485.764705882353\n",
      "Entertainment : 14029.830708661417\n",
      "Food & Drink : 33333.92307692308\n",
      "Sports : 23008.898550724636\n",
      "Book : 39758.5\n",
      "Finance : 31467.944444444445\n",
      "Education : 7003.983050847458\n",
      "Productivity : 21028.410714285714\n",
      "Business : 7491.117647058823\n",
      "Catalogs : 4004.0\n",
      "Medical : 612.0\n"
     ]
    }
   ],
   "source": [
    "# show the average number of user rating per app genre on the App Store\n",
    "for genre in freq_table(ios_free, -5):\n",
    "    total = 0\n",
    "    len_genre = 0\n",
    "    for app in ios_free:\n",
    "        genre_app = app[11]\n",
    "        if genre_app == genre:\n",
    "            n_ratings = float(app[5])\n",
    "            total += n_ratings\n",
    "            len_genre += 1\n",
    "    avg_n_ratings = total / len_genre\n",
    "    print(genre, ':', avg_n_ratings)"
   ]
  },
  {
   "cell_type": "code",
   "execution_count": 17,
   "metadata": {},
   "outputs": [
    {
     "name": "stdout",
     "output_type": "stream",
     "text": [
      "Social Networking : 4199.0\n",
      "Photo & Video : 2206.0\n",
      "Games : 901.5\n",
      "Music : 3850.0\n",
      "Reference : 6614.0\n",
      "Health & Fitness : 2459.0\n",
      "Weather : 289.0\n",
      "Utilities : 1110.0\n",
      "Travel : 798.5\n",
      "Shopping : 5936.0\n",
      "News : 373.0\n",
      "Navigation : 8196.5\n",
      "Lifestyle : 1111.0\n",
      "Entertainment : 1197.5\n",
      "Food & Drink : 1490.5\n",
      "Sports : 1628.0\n",
      "Book : 421.5\n",
      "Finance : 1931.0\n",
      "Education : 606.5\n",
      "Productivity : 8737.5\n",
      "Business : 1150.0\n",
      "Catalogs : 1229.0\n",
      "Medical : 566.5\n"
     ]
    }
   ],
   "source": [
    "# show the median of the number of ratings per app genre on the App Store data set\n",
    "for genre in freq_table(ios_free, -5):\n",
    "    n_ratings_list = []\n",
    "    for app in ios_free:\n",
    "        genre_app = app[-5]\n",
    "        if genre_app == genre:\n",
    "            n_ratings = float(app[5])\n",
    "            n_ratings_list.append(n_ratings)\n",
    "    med_ratings = median(n_ratings_list)\n",
    "    print(genre, ':', med_ratings)"
   ]
  },
  {
   "cell_type": "code",
   "execution_count": 18,
   "metadata": {},
   "outputs": [
    {
     "name": "stdout",
     "output_type": "stream",
     "text": [
      "Waze - GPS Navigation, Maps & Real-time Traffic : 345046\n",
      "Google Maps - Navigation & Transit : 154911\n",
      "Geocaching® : 12811\n",
      "CoPilot GPS – Car Navigation & Offline Maps : 3582\n",
      "ImmobilienScout24: Real Estate Search in Germany : 187\n",
      "Railway Route Search : 5\n"
     ]
    }
   ],
   "source": [
    "# show the app names and the number of revies in the 'Navigation'\n",
    "for app in ios_free:\n",
    "    if app[-5] == 'Navigation':\n",
    "        print(app[1], ':', app[5])"
   ]
  },
  {
   "cell_type": "code",
   "execution_count": 19,
   "metadata": {},
   "outputs": [
    {
     "name": "stdout",
     "output_type": "stream",
     "text": [
      "Bible : 985920\n",
      "Dictionary.com Dictionary & Thesaurus : 200047\n",
      "Dictionary.com Dictionary & Thesaurus for iPad : 54175\n",
      "Google Translate : 26786\n",
      "Muslim Pro: Ramadan 2017 Prayer Times, Azan, Quran : 18418\n",
      "New Furniture Mods - Pocket Wiki & Game Tools for Minecraft PC Edition : 17588\n",
      "Merriam-Webster Dictionary : 16849\n",
      "Night Sky : 12122\n",
      "City Maps for Minecraft PE - The Best Maps for Minecraft Pocket Edition (MCPE) : 8535\n",
      "LUCKY BLOCK MOD ™ for Minecraft PC Edition - The Best Pocket Wiki & Mods Installer Tools : 4693\n",
      "GUNS MODS for Minecraft PC Edition - Mods Tools : 1497\n",
      "Guides for Pokémon GO - Pokemon GO News and Cheats : 826\n",
      "WWDC : 762\n",
      "Horror Maps for Minecraft PE - Download The Scariest Maps for Minecraft Pocket Edition (MCPE) Free : 718\n",
      "VPN Express : 14\n",
      "Real Bike Traffic Rider Virtual Reality Glasses : 8\n",
      "教えて!goo : 0\n",
      "Jishokun-Japanese English Dictionary & Translator : 0\n"
     ]
    }
   ],
   "source": [
    "# show the app names and the number of revies in the 'Reference'\n",
    "for app in ios_free:\n",
    "    if app[-5] == 'Reference':\n",
    "        print(app[1], ':', app[5])"
   ]
  },
  {
   "cell_type": "code",
   "execution_count": 20,
   "metadata": {},
   "outputs": [
    {
     "name": "stdout",
     "output_type": "stream",
     "text": [
      "Groupon - Deals, Coupons & Discount Shopping App : 417779\n",
      "eBay: Best App to Buy, Sell, Save! Online Shopping : 262241\n",
      "Wish - Shopping Made Fun : 141960\n",
      "shopkick - Shopping Rewards & Discounts : 130823\n",
      "Amazon App: shop, scan, compare, and read reviews : 126312\n",
      "Target : 108131\n",
      "Zappos: shop shoes & clothes, fast free shipping : 103655\n",
      "Walgreens – Pharmacy, Photo, Coupons and Shopping : 88885\n",
      "Best Buy : 80424\n",
      "Walmart: Free 2-Day Shipping,* Easy Store Shopping : 70286\n",
      "OfferUp - Buy. Sell. Simple. : 57348\n",
      "Apple Store : 55171\n",
      "Shop Savvy Barcode Scanner - Price Compare & Deals : 54630\n",
      "Ibotta: Cash Back App, Grocery Coupons & Shopping : 44313\n",
      "letgo: Buy & Sell Second Hand Stuff : 38424\n",
      "CVS Pharmacy : 35981\n",
      "Victoria’s Secret – The Sexiest Bras & Lingerie : 34507\n",
      "Etsy: Shop Handmade, Vintage & Creative Goods : 30434\n",
      "Gilt : 26353\n",
      "Mercari: Shopping Marketplace to Buy & Sell Stuff : 24244\n",
      "Shopular Coupons, Weekly Deals for Target, Walmart : 22729\n",
      "RetailMeNot Shopping Deals, Coupons, Savings : 18544\n",
      "Poshmark: Buy & Sell Fashion : 18035\n",
      "Whole Foods Market : 17906\n",
      "5miles: Buy and Sell Used Stuff Locally : 16105\n",
      "Sephora Makeup & Beauty App – Insider Tips & Style : 15593\n",
      "Cartwheel by Target : 14682\n",
      "SHEIN Shopping - Women's Clothing & Fashion : 12663\n",
      "Ebates: Cash Back, Coupons & Rebate Shopping App : 12617\n",
      "Wayfair - Shop Furniture, Home Decor, Daily Sales : 12578\n",
      "CVS : 12402\n",
      "SNKRS : 12298\n",
      "Macy's : 11013\n",
      "AliExpress Shopping App : 10647\n",
      "ASOS : 9725\n",
      "Jet: Online Shopping Deals & Bulk Wholesale Prices : 9006\n",
      "Romwe shopping- Fashion Clothing for women : 8558\n",
      "Black Friday 2017 Ads App - BlackFriday.fm : 8221\n",
      "Sam's Club: Wholesale Shopping & Bulk Buy Deals : 8149\n",
      "Kohl's App: Scan, Shop, Pay and Save! : 7174\n",
      "Flipp - Weekly Ads, Shopping List, and Coupons : 6677\n",
      "AEO|Aerie: Jeans, Dresses, Swimsuits & Bralettes : 6408\n",
      "Nike+ : 5464\n",
      "Sam’s Club Scan & Go : 5448\n",
      "Close5 - Buy & Sell Stuff Locally : 5010\n",
      "Checkout 51: Grocery Coupons & Cash Back Savings : 4878\n",
      "Retale - Coupons, Weekly Ads & Stores Nearby : 4861\n",
      "Kmart – Download Now, Shop Online & Pick Up Today! : 4186\n",
      "Honest App: Shop baby & diaper products : 3173\n",
      "GOAT: Buy & Sell Sneakers : 3116\n",
      "ZARA : 2731\n",
      "Depop - Buy, Sell and Share : 2478\n",
      "Foot Locker : 2477\n",
      "Fuel Rewards® program : 2249\n",
      "KIXIFY - Buy & Sell Sneakers : 1735\n",
      "JCPenney : 1661\n",
      "淘宝HD－Taobao for iPad : 1103\n",
      "Inkly: Greeting Cards, Postcards, Flowers & Gifts : 1034\n",
      "Amazon Prime Now : 895\n",
      "Red－shop the world : 768\n",
      "UA Shop by Under Armour : 741\n",
      "H&M : 687\n",
      "boohoo.com : 655\n",
      "Footaction : 364\n",
      "My College Bookstore : 225\n",
      "Shpock Boot Sale & Classifieds App. Buy & Sell : 212\n",
      "天猫HD : 198\n",
      "Kirkland's Spin to Win : 177\n",
      "Vestiaire Collective - Pre-Owned Luxury Fashion : 169\n",
      "Lush Cosmetics : 164\n",
      "京东 HD : 150\n",
      "Missguided : 113\n",
      "The Clymb — Gear Deals : 104\n",
      "OVO Store : 95\n",
      "eBay Kleinanzeigen - Free. Easy. Local. : 74\n",
      "Gumtree Classifieds: Buy & Sell - Local for Sale : 72\n",
      "WEAR - Fashion Lookbook : 66\n",
      "UNiDAYS: Student Discounts for Shopping Top Brands : 53\n",
      "JD Sports : 18\n",
      "Showroomprive - Private Fashion Sales : 11\n",
      "minne - shopping handmade item : 8\n",
      "DaWanda - The marketplace for unique products : 0\n",
      "vente-privee : 0\n",
      "gogogo : 0\n"
     ]
    }
   ],
   "source": [
    "# show the app names and the number of revies in the 'Shopping'\n",
    "for app in ios_free:\n",
    "    if app[-5] == 'Shopping':\n",
    "        print(app[1], ':', app[5])"
   ]
  },
  {
   "cell_type": "markdown",
   "metadata": {},
   "source": [
    "## Conclusion\n",
    "\n",
    "In this notebook, we analyzed the Android and iOS app data and investigated the most common or popular genres. While the Android market has a broad range of popular genres, but an entertainment-related app was popular in the iOS market. In terms of popularity, navigation apps, book apps, and shopping apps showed a strong presence. We concluded that developing a unique app for these three genres can be profitable for both the Android and iOS markets.\n",
    "\n",
    "There are many points to be improved, such as scrutinizing the results of each genre and taking into account development costs, but we were here able to learn the Python basics and a data science workflow by analyzing the mobile app data."
   ]
  }
 ],
 "metadata": {
  "kernelspec": {
   "display_name": "Python 3",
   "language": "python",
   "name": "python3"
  },
  "language_info": {
   "codemirror_mode": {
    "name": "ipython",
    "version": 3
   },
   "file_extension": ".py",
   "mimetype": "text/x-python",
   "name": "python",
   "nbconvert_exporter": "python",
   "pygments_lexer": "ipython3",
   "version": "3.7.4"
  }
 },
 "nbformat": 4,
 "nbformat_minor": 2
}
